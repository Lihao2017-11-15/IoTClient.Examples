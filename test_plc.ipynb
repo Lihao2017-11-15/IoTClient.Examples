{
 "cells": [
  {
   "cell_type": "code",
   "execution_count": null,
   "metadata": {},
   "outputs": [],
   "source": [
    "import snap7\n",
    "from ctypes import *\n",
    "from multiprocessing import Value\n",
    "\n",
    "# server = snap7.server.Server()\n",
    "# server.create()\n",
    "# userdata = Value(c_bool, True)\n",
    "# server.register_area(snap7.types.Areas.DB, 0, userdata)\n",
    "\n",
    "client = snap7.client.Client()\n",
    "client.connect(\"127.0.0.1\", 0, 0)\n",
    "print(client.get_connected())\n",
    "\n",
    "logo = snap7.logo.Logo()\n",
    "logo.connect('127.0.0.1',0,0,102)\n",
    "# logo.create()\n",
    "print(logo.get_connected())"
   ]
  },
  {
   "cell_type": "code",
   "execution_count": null,
   "metadata": {},
   "outputs": [],
   "source": [
    "client.read_area(snap7.types.Areas.DB, 1, 0, 4)"
   ]
  },
  {
   "cell_type": "code",
   "execution_count": null,
   "metadata": {},
   "outputs": [],
   "source": [
    "logo.write('V341.28', 1)"
   ]
  },
  {
   "cell_type": "code",
   "execution_count": null,
   "metadata": {},
   "outputs": [],
   "source": [
    "logo.read('V341.28')"
   ]
  },
  {
   "cell_type": "code",
   "execution_count": null,
   "metadata": {},
   "outputs": [],
   "source": [
    "bytearray(b\"\\x00\\x00\\x00\\x00\")\n",
    "data[3] = 0b00000001\n",
    "data\n",
    "bytearray(b'\\x00\\x00\\x00\\x01')\n",
    "client.db_write(1, 0, data)"
   ]
  }
 ],
 "metadata": {
  "kernelspec": {
   "display_name": "Python 3.8.10 ('venv3.8.10': venv)",
   "language": "python",
   "name": "python3"
  },
  "language_info": {
   "codemirror_mode": {
    "name": "ipython",
    "version": 3
   },
   "file_extension": ".py",
   "mimetype": "text/x-python",
   "name": "python",
   "nbconvert_exporter": "python",
   "pygments_lexer": "ipython3",
   "version": "3.8.10"
  },
  "orig_nbformat": 4,
  "vscode": {
   "interpreter": {
    "hash": "d5b2fa73c2136c8e0441866d2e0041a4edf81edc1c7667bc69aa92dd34f2b394"
   }
  }
 },
 "nbformat": 4,
 "nbformat_minor": 2
}
